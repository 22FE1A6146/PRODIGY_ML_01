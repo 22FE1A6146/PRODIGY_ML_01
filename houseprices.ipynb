{
  "nbformat": 4,
  "nbformat_minor": 0,
  "metadata": {
    "colab": {
      "provenance": [],
      "toc_visible": true,
      "authorship_tag": "ABX9TyPk94ez4NajwF+GVkeURGmW",
      "include_colab_link": true
    },
    "kernelspec": {
      "name": "python3",
      "display_name": "Python 3"
    },
    "language_info": {
      "name": "python"
    }
  },
  "cells": [
    {
      "cell_type": "markdown",
      "metadata": {
        "id": "view-in-github",
        "colab_type": "text"
      },
      "source": [
        "<a href=\"https://colab.research.google.com/github/22FE1A6146/PRODIGY_ML_01/blob/main/houseprices.ipynb\" target=\"_parent\"><img src=\"https://colab.research.google.com/assets/colab-badge.svg\" alt=\"Open In Colab\"/></a>"
      ]
    },
    {
      "cell_type": "code",
      "execution_count": 5,
      "metadata": {
        "colab": {
          "base_uri": "https://localhost:8080/"
        },
        "id": "Kt8tFuriAqHJ",
        "outputId": "b5b09cd4-f595-4778-cc9e-bbb3a3029b0a"
      },
      "outputs": [
        {
          "output_type": "stream",
          "name": "stdout",
          "text": [
            "Mean Squared Error: 509922752.72998255\n",
            "R-squared: 0.8752363330795416\n",
            "Coefficients: [ 9.08641235e+01 -7.05879487e+04  9.39807390e+04]\n",
            "Intercept: 142733.04354345484\n",
            "Predicted price for new house: 300658.92228134203\n"
          ]
        },
        {
          "output_type": "stream",
          "name": "stderr",
          "text": [
            "/usr/local/lib/python3.10/dist-packages/sklearn/base.py:465: UserWarning: X does not have valid feature names, but LinearRegression was fitted with feature names\n",
            "  warnings.warn(\n"
          ]
        }
      ],
      "source": [
        "# Import necessary libraries\n",
        "# Import necessary libraries\n",
        "import numpy as np\n",
        "import pandas as pd\n",
        "from sklearn.linear_model import LinearRegression\n",
        "from sklearn.metrics import mean_squared_error, r2_score\n",
        "\n",
        "# Load train and test datasets\n",
        "# Replace 'train.csv' and 'test.csv' with your actual dataset file paths\n",
        "train_data = pd.read_csv('//content//train.csv', sep='\\t') # Added sep='\\t' to handle tab separation\n",
        "test_data = pd.read_csv('//content//test.csv', sep='\\t') # Added sep='\\t' to handle tab separation\n",
        "\n",
        "# Features and target variable for training data\n",
        "X_train = train_data[['square_footage', 'bedrooms', 'bathrooms']] # Changed 'bedrooms' to 'bedroom'\n",
        "y_train = train_data['price']\n",
        "\n",
        "# Features and target variable for testing data\n",
        "X_test = test_data[['square_footage', 'bedrooms', 'bathrooms']] # Changed 'bedrooms' to 'bedroom'\n",
        "y_test = test_data['price']\n",
        "\n",
        "# Create a Linear Regression model\n",
        "model = LinearRegression()\n",
        "\n",
        "# Train the model using the training data\n",
        "model.fit(X_train, y_train)\n",
        "\n",
        "# Make predictions on the test data\n",
        "y_pred = model.predict(X_test)\n",
        "\n",
        "# Evaluate the model\n",
        "mse = mean_squared_error(y_test, y_pred)\n",
        "r2 = r2_score(y_test, y_pred)\n",
        "\n",
        "# Output results\n",
        "print(f\"Mean Squared Error: {mse}\")\n",
        "print(f\"R-squared: {r2}\")\n",
        "print(f\"Coefficients: {model.coef_}\")\n",
        "print(f\"Intercept: {model.intercept_}\")\n",
        "\n",
        "# Predict the price of a new house\n",
        "new_house = np.array([[2000, 3, 2]])  # Example: 2000 sqft, 3 bedrooms, 2 bathrooms\n",
        "predicted_price = model.predict(new_house)\n",
        "print(f\"Predicted price for new house: {predicted_price[0]}\")"
      ]
    }
  ]
}